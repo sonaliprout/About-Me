{
 "cells": [
  {
   "cell_type": "markdown",
   "id": "f9ce6edc",
   "metadata": {},
   "source": [
    "# About Me"
   ]
  },
  {
   "cell_type": "markdown",
   "id": "4fb2f349",
   "metadata": {},
   "source": [
    "Hello, my name is Sonali Priyadarsini Rout and I am based in Derby, United Kingdom.\n",
    "I am currently pursuing a certificate in Data Analytics at Imperial College, United Kingdom.\n",
    "Presently I work in the manufacturing field."
   ]
  },
  {
   "cell_type": "markdown",
   "id": "ab28a6dc",
   "metadata": {},
   "source": [
    "## Recent Project\n",
    "\n",
    "I am involved in a project where I need to initiate ITSM processes such as Problem Management, Change Management, Asset and Configuration Management for services. Additionally, I conduct detailed data analytics to create a roadmap for asset lifecycle, repair costs, and a predictive model for asset maintenance."
   ]
  },
  {
   "cell_type": "markdown",
   "id": "bc7ff322",
   "metadata": {},
   "source": [
    "## Goal\n",
    "\n",
    "My goal is to enhance proficiency in advanced statistical methods, predictive modeling, and process optimization tools to drive efficiencies and innovation in manufacturing operations. Spearheaded data-driven projects across production, supply chain, and quality assurance to optimize processes and enhance product quality. Utilize manufacturing analytics to reduce downtime, minimize waste, and improve overall operational efficiency, contributing to significant cost savings and competitive advantage."
   ]
  },
  {
   "cell_type": "markdown",
   "id": "ce9e0aab",
   "metadata": {},
   "source": [
    "## Professional Intrest\n",
    "\n",
    "Professional Interests in Contributing to research and development initiatives, exploring new materials, technologies, and manufacturing techniques to stay competitive and drive innovation in the field.Staying updated with industry trends, attending conferences, obtaining certifications, and participating in professional associations to foster growth and expertise.Leveraging data analytics, big data, and artificial intelligence (AI) to drive insights, predictive maintenance, and overall operational efficiency."
   ]
  },
  {
   "cell_type": "code",
   "execution_count": null,
   "id": "a51c1475",
   "metadata": {},
   "outputs": [],
   "source": []
  }
 ],
 "metadata": {
  "kernelspec": {
   "display_name": "Python 3 (ipykernel)",
   "language": "python",
   "name": "python3"
  },
  "language_info": {
   "codemirror_mode": {
    "name": "ipython",
    "version": 3
   },
   "file_extension": ".py",
   "mimetype": "text/x-python",
   "name": "python",
   "nbconvert_exporter": "python",
   "pygments_lexer": "ipython3",
   "version": "3.11.5"
  }
 },
 "nbformat": 4,
 "nbformat_minor": 5
}
